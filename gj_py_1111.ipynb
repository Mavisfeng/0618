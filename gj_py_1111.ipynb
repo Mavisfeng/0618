{
  "nbformat": 4,
  "nbformat_minor": 0,
  "metadata": {
    "colab": {
      "provenance": [],
      "authorship_tag": "ABX9TyPfEt3bO8N4Q5bbcVSxDfWr",
      "include_colab_link": true
    },
    "kernelspec": {
      "name": "python3",
      "display_name": "Python 3"
    },
    "language_info": {
      "name": "python"
    }
  },
  "cells": [
    {
      "cell_type": "markdown",
      "metadata": {
        "id": "view-in-github",
        "colab_type": "text"
      },
      "source": [
        "<a href=\"https://colab.research.google.com/github/Mavisfeng/0618/blob/main/gj_py_1111.ipynb\" target=\"_parent\"><img src=\"https://colab.research.google.com/assets/colab-badge.svg\" alt=\"Open In Colab\"/></a>"
      ]
    },
    {
      "cell_type": "code",
      "execution_count": null,
      "metadata": {
        "id": "69gABZbzBvkE"
      },
      "outputs": [],
      "source": [
        "h =  float(input (\"身高\")) / 100\n",
        "w = float (input (\"體重\"))\n",
        "bmi = w / h ** 2\n",
        "print(round (bmi, 3))\n",
        "print(f\"bmi: {bmi:.3f}\")\n",
        "\n",
        "if bmi < 18.5:\n",
        "  print(\"太輕\")\n",
        "elif bmi < 25:\n",
        "  print (\"正常\")\n",
        "elif bmi <30:\n",
        "  print (\"超重\")\n",
        "else:\n",
        "  print(\"胖胖\")"
      ]
    },
    {
      "cell_type": "code",
      "source": [
        "str2 = \"hello,Python\"\n",
        "print(str2[0])\n",
        "print(str2[6])\n",
        "print(str2[-1])\n",
        "print(str2[-2])\n",
        "\n",
        "print(str2[3:7])\n",
        "print(str2[-4:-1])"
      ],
      "metadata": {
        "colab": {
          "base_uri": "https://localhost:8080/"
        },
        "id": "S0YZPZPACttI",
        "outputId": "0f75abae-32e3-40aa-f176-1905b05d24e1"
      },
      "execution_count": null,
      "outputs": [
        {
          "output_type": "stream",
          "name": "stdout",
          "text": [
            "h\n",
            "P\n",
            "n\n",
            "o\n",
            "lo,P\n",
            "tho\n"
          ]
        }
      ]
    },
    {
      "cell_type": "markdown",
      "source": [
        "print str2 [3:7] 表示取數 第3個～到～地7個\n",
        "print str [-4:-1] 表示取數 倒數～～第一個到第4個"
      ],
      "metadata": {
        "id": "DJWSGjXZGqra"
      }
    },
    {
      "cell_type": "code",
      "source": [
        "str1 = \"Hello, Python\"\n",
        "str2 = str1[:5]\n",
        "str3 = str1[-6:]\n",
        "print(str2)\n",
        "print(str3)\n",
        "str1 = str2 + \":\" + str3\n",
        "print(str1)\n",
        "print(len(str1))"
      ],
      "metadata": {
        "colab": {
          "base_uri": "https://localhost:8080/"
        },
        "id": "dG8nylFCMX0N",
        "outputId": "13205fb4-95ad-432e-cec7-2e2908446e31"
      },
      "execution_count": null,
      "outputs": [
        {
          "output_type": "stream",
          "name": "stdout",
          "text": [
            "Hello\n",
            "Python\n",
            "Hello:Python\n",
            "12\n"
          ]
        }
      ]
    },
    {
      "cell_type": "markdown",
      "source": [
        "用 print(len(str1)） == 可以查字串的字數"
      ],
      "metadata": {
        "id": "mESXq4bVNWgt"
      }
    },
    {
      "cell_type": "code",
      "source": [
        "str1 = \"Hello, Python\"\n",
        "print(str1[5])\n",
        "str1[5] = \":\"  #字串不支持修改"
      ],
      "metadata": {
        "colab": {
          "base_uri": "https://localhost:8080/",
          "height": 231
        },
        "id": "r1m6GdyENe8F",
        "outputId": "5f51d29f-8a45-4c9c-8159-55536238f869"
      },
      "execution_count": null,
      "outputs": [
        {
          "output_type": "stream",
          "name": "stdout",
          "text": [
            ",\n"
          ]
        },
        {
          "output_type": "error",
          "ename": "TypeError",
          "evalue": "ignored",
          "traceback": [
            "\u001b[0;31m---------------------------------------------------------------------------\u001b[0m",
            "\u001b[0;31mTypeError\u001b[0m                                 Traceback (most recent call last)",
            "\u001b[0;32m<ipython-input-14-b21f077d734a>\u001b[0m in \u001b[0;36m<cell line: 3>\u001b[0;34m()\u001b[0m\n\u001b[1;32m      1\u001b[0m \u001b[0mstr1\u001b[0m \u001b[0;34m=\u001b[0m \u001b[0;34m\"Hello, Python\"\u001b[0m\u001b[0;34m\u001b[0m\u001b[0;34m\u001b[0m\u001b[0m\n\u001b[1;32m      2\u001b[0m \u001b[0mprint\u001b[0m\u001b[0;34m(\u001b[0m\u001b[0mstr1\u001b[0m\u001b[0;34m[\u001b[0m\u001b[0;36m5\u001b[0m\u001b[0;34m]\u001b[0m\u001b[0;34m)\u001b[0m\u001b[0;34m\u001b[0m\u001b[0;34m\u001b[0m\u001b[0m\n\u001b[0;32m----> 3\u001b[0;31m \u001b[0mstr1\u001b[0m\u001b[0;34m[\u001b[0m\u001b[0;36m5\u001b[0m\u001b[0;34m]\u001b[0m \u001b[0;34m=\u001b[0m \u001b[0;34m\":\"\u001b[0m\u001b[0;34m\u001b[0m\u001b[0;34m\u001b[0m\u001b[0m\n\u001b[0m",
            "\u001b[0;31mTypeError\u001b[0m: 'str' object does not support item assignment"
          ]
        }
      ]
    },
    {
      "cell_type": "code",
      "source": [
        "str1 = \"This is Python.That is Java,This is SQLite\"\n",
        "search1 = \"Python\"\n",
        "print(str1.find(search1))\n",
        "search2 = \"not\"\n",
        "print(str1.find(search2))  #找不到就會出現-1\n",
        "search3 = \"t\"\n",
        "print(str1.find(search3, 11))  #從第11個開始搜尋"
      ],
      "metadata": {
        "colab": {
          "base_uri": "https://localhost:8080/"
        },
        "id": "87a8z-LyR6wT",
        "outputId": "6c81093e-0520-46da-c80e-601e53bfdb5f"
      },
      "execution_count": null,
      "outputs": [
        {
          "output_type": "stream",
          "name": "stdout",
          "text": [
            "8\n",
            "-1\n",
            "18\n"
          ]
        }
      ]
    },
    {
      "cell_type": "markdown",
      "source": [
        "案例如下：\n",
        "\n",
        "join(): 於字串或字元之間加入指定的文字，如：指定文字.join （要插入的字串）\n"
      ],
      "metadata": {
        "id": "koggMzChXsUD"
      }
    },
    {
      "cell_type": "code",
      "source": [
        "str1 = \"_\"\n",
        "str2 = (\"a\", \"b\", \"c\", \"d\")  #tuple 就像籃子樣，把字串放在同一籃裡面\n",
        "print(str1.join(str2))\n",
        "str3 = [\"abc\", \"zyx\", \"123\"]  #list\n",
        "print(str1.join(str3))\n",
        "str4 = \":\".join(\"Python\")\n",
        "print(str4)"
      ],
      "metadata": {
        "colab": {
          "base_uri": "https://localhost:8080/"
        },
        "id": "Q6XYO7msX5G7",
        "outputId": "93e84222-65dc-4d55-d050-0ab72b15b4de"
      },
      "execution_count": null,
      "outputs": [
        {
          "output_type": "stream",
          "name": "stdout",
          "text": [
            "a_b_c_d\n",
            "abc_zyx_123\n",
            "P:y:t:h:o:n\n"
          ]
        }
      ]
    },
    {
      "cell_type": "markdown",
      "source": [
        "split 案例如下：\n",
        "\n",
        "split(): 將字串進行切割\n",
        "str.split(分割符號）\n",
        "str.split(分割符號, 分割次數）"
      ],
      "metadata": {
        "id": "MQcIDM_na9U-"
      }
    },
    {
      "cell_type": "code",
      "source": [
        "str4 = \"python-java-cc++-ruby\"\n",
        "values = str4.split(\"-\")\n",
        "print(values)\n",
        "print(values[1])\n",
        "value2 = str4.split(\"-\", 1)  #1指的是位置\n",
        "value3 = str4.split(\"-\", 2)   #2指的是位置\n",
        "print(value2)\n",
        "print(value3)"
      ],
      "metadata": {
        "colab": {
          "base_uri": "https://localhost:8080/"
        },
        "id": "0iCKMQ2DbROo",
        "outputId": "dc4634f6-d920-434e-c99e-75744ae54824"
      },
      "execution_count": null,
      "outputs": [
        {
          "output_type": "stream",
          "name": "stdout",
          "text": [
            "['python', 'java', 'cc++', 'ruby']\n",
            "java\n",
            "['python', 'java-cc++-ruby']\n",
            "['python', 'java', 'cc++-ruby']\n"
          ]
        }
      ]
    },
    {
      "cell_type": "markdown",
      "source": [
        "20231111作業：文字接龍遊戲\n",
        "請輸入一個字串python\n",
        "**請輸入**\n"
      ],
      "metadata": {
        "id": "70p-BQW7eNHW"
      }
    },
    {
      "cell_type": "markdown",
      "source": [
        "list vs tuple 的差異\n",
        "*   tuple與list 的差異\n",
        "  1.   括號不同：\n",
        "    *   tuple 是用 \"小括號\" 將元素包起來\n",
        "    *   list 是用 \"中括號\" 將元素包起來\n",
        "\n",
        "  2.   元素可否變更 ？\n",
        "    *   tuple 決定了元素的內容不可以變更\n",
        "    *   list 可以隨時修改\n",
        "\n",
        "list 介紹\n",
        "1. list 內資料用“逗號”隔開，放置於“中括號”的範圍內\n",
        "    * list_name = [1,2,3]\n",
        "2. list 可以儲存 “不同類型” 的值或項目，如：數字和字串\n",
        "    ＊ list_name = [1,2, 'Python', 'lists']\n",
        "3. list 內的資料可以進行 \"增加、更新、移除“\n",
        "4. 可透過 .index () 方法取得指定資料的索引"
      ],
      "metadata": {
        "id": "8mUTBY11fEi2"
      }
    },
    {
      "cell_type": "code",
      "source": [
        "list1 = [\"H\", 'i']  #中括號\n",
        "tuple1 = ('H', 'i') #小括號\n",
        "print(list1)\n",
        "print(len(list1))\n",
        "list1.append(\"vivin\")  #將一個新的項目加到list 的尾端\n",
        "print(list1)\n",
        "print(len(list1))  #len 是識別長度\n",
        "list1[1] = 3.1415\n",
        "print(list1)\n",
        "print(\"================\")\n",
        "print(tuple1)\n",
        "#tuple1[0] = \"Lucy\"  #唯讀，不可以改\n",
        "#print(tuple)"
      ],
      "metadata": {
        "colab": {
          "base_uri": "https://localhost:8080/"
        },
        "id": "mVM75PEof9VY",
        "outputId": "69aacc46-ad92-4e0c-a5fb-930be1907d0c"
      },
      "execution_count": null,
      "outputs": [
        {
          "output_type": "stream",
          "name": "stdout",
          "text": [
            "['H', 'i']\n",
            "2\n",
            "['H', 'i', 'vivin']\n",
            "3\n",
            "['H', 3.1415, 'vivin']\n",
            "================\n",
            "('H', 'i')\n"
          ]
        }
      ]
    },
    {
      "cell_type": "code",
      "source": [
        "list2 = [1,2,3,4]\n",
        "list2.append(5)\n",
        "list2.append(6)\n",
        "result = tuple(list2) #list轉tuple\n",
        "print(result)\n",
        "print(type(result))\n",
        "list2 = list(result) #tuple轉list\n",
        "print(list2)\n",
        "print(type(list2))"
      ],
      "metadata": {
        "colab": {
          "base_uri": "https://localhost:8080/"
        },
        "id": "GT4Huj64kxAe",
        "outputId": "48f2c339-9778-455a-a9f8-94aac56f5905"
      },
      "execution_count": null,
      "outputs": [
        {
          "output_type": "stream",
          "name": "stdout",
          "text": [
            "(1, 2, 3, 4, 5, 6)\n",
            "<class 'tuple'>\n",
            "[1, 2, 3, 4, 5, 6]\n",
            "<class 'list'>\n"
          ]
        }
      ]
    },
    {
      "cell_type": "code",
      "source": [
        "a = (3,1,2)\n",
        "b = a + (5,)  #tuple “逗號”\n",
        "print(b)\n",
        "\n",
        "list1 = [3,1,2]\n",
        "list2 = list1 + [5] #list 不用加 “逗號”\n",
        "print(list2)\n",
        "\n",
        "print(id(list1)) #用id 識別兩者的差異，type 也是 （常用）\n",
        "print(id(list2))"
      ],
      "metadata": {
        "colab": {
          "base_uri": "https://localhost:8080/"
        },
        "id": "hHnlMRhSnQ4b",
        "outputId": "9a5f3a57-35bc-47a7-ac03-8f4a50f8b7e7"
      },
      "execution_count": null,
      "outputs": [
        {
          "output_type": "stream",
          "name": "stdout",
          "text": [
            "(3, 1, 2, 5)\n",
            "[3, 1, 2, 5]\n",
            "133432792731328\n",
            "133432793290368\n"
          ]
        }
      ]
    },
    {
      "cell_type": "code",
      "source": [
        "list1 = [\"A\", \"B\", \"C\", \"D\", \"E\"]\n",
        "newList = list1[0:3]\n",
        "print(newList) #全新的list和 List1 無關\n",
        "newList[0] = \"Z\"\n",
        "print(list1)\n",
        "print(newList)\n"
      ],
      "metadata": {
        "colab": {
          "base_uri": "https://localhost:8080/"
        },
        "id": "rUMCycrsG1RU",
        "outputId": "b522aeef-02d0-4ad7-ed95-f73dc32b5026"
      },
      "execution_count": 38,
      "outputs": [
        {
          "output_type": "stream",
          "name": "stdout",
          "text": [
            "['A', 'B', 'C']\n",
            "['A', 'B', 'C', 'D', 'E']\n",
            "['Z', 'B', 'C']\n"
          ]
        }
      ]
    },
    {
      "cell_type": "markdown",
      "source": [
        "**轉為List**"
      ],
      "metadata": {
        "id": "oBaIzEduHYqf"
      }
    },
    {
      "cell_type": "code",
      "source": [
        "r = range(10)\n",
        "print(type(r))  #顯示類別/型態：range\n",
        "list1 = list(r)\n",
        "print(list1)\n",
        "\n",
        "print(type(list1))   #顯示類別/型態：list\n",
        "for v in r:\n",
        "  print(v, end=\" \")\n",
        "\n",
        "list2 = list(\"ABCDEF\")\n",
        "print()\n",
        "print(list2)\n",
        "\n",
        "tuple1 = (1,2,3,4)   #用tuple結合range+list\n",
        "list3 = list(tuple1)\n",
        "list3[2] = \"Ken\"\n",
        "print(list3)\n"
      ],
      "metadata": {
        "colab": {
          "base_uri": "https://localhost:8080/"
        },
        "id": "_Giacy2BHRqY",
        "outputId": "d2d0a95d-6cf0-46de-fd3a-8a60b5f78d15"
      },
      "execution_count": 46,
      "outputs": [
        {
          "output_type": "stream",
          "name": "stdout",
          "text": [
            "<class 'range'>\n",
            "[0, 1, 2, 3, 4, 5, 6, 7, 8, 9]\n",
            "<class 'list'>\n",
            "0 1 2 3 4 5 6 7 8 9 \n",
            "['A', 'B', 'C', 'D', 'E', 'F']\n",
            "[1, 2, 'Ken', 4]\n",
            "<class 'range'>\n",
            "[0, 1, 2, 3, 4, 5, 6, 7, 8, 9, 10, 11, 12, 13, 14, 15, 16, 17, 18, 19, 20, 21, 22, 23, 24, 25, 26, 27, 28, 29, 30, 31, 32, 33, 34, 35, 36, 37, 38, 39, 40, 41, 42, 43, 44, 45, 46, 47, 48, 49, 50, 51, 52, 53, 54, 55, 56, 57, 58, 59, 60, 61, 62, 63, 64, 65, 66, 67, 68, 69, 70, 71, 72, 73, 74, 75, 76, 77, 78, 79, 80, 81, 82, 83, 84, 85, 86, 87, 88, 89, 90, 91, 92, 93, 94, 95, 96, 97, 98, 99]\n"
          ]
        }
      ]
    },
    {
      "cell_type": "code",
      "source": [
        "#練習\n",
        "r = range(100)\n",
        "\n",
        "print(type(r))\n",
        "list4 = list(r)\n",
        "print(list4)\n",
        "\n",
        "print(type(list4))\n",
        "for v in r:\n",
        "  print(v, end=\" \")\n",
        "\n",
        ""
      ],
      "metadata": {
        "colab": {
          "base_uri": "https://localhost:8080/"
        },
        "id": "aVjpQGmNN8G_",
        "outputId": "270823f8-f75f-46a4-d583-1f67ec3ff47b"
      },
      "execution_count": 47,
      "outputs": [
        {
          "output_type": "stream",
          "name": "stdout",
          "text": [
            "<class 'range'>\n",
            "[0, 1, 2, 3, 4, 5, 6, 7, 8, 9, 10, 11, 12, 13, 14, 15, 16, 17, 18, 19, 20, 21, 22, 23, 24, 25, 26, 27, 28, 29, 30, 31, 32, 33, 34, 35, 36, 37, 38, 39, 40, 41, 42, 43, 44, 45, 46, 47, 48, 49, 50, 51, 52, 53, 54, 55, 56, 57, 58, 59, 60, 61, 62, 63, 64, 65, 66, 67, 68, 69, 70, 71, 72, 73, 74, 75, 76, 77, 78, 79, 80, 81, 82, 83, 84, 85, 86, 87, 88, 89, 90, 91, 92, 93, 94, 95, 96, 97, 98, 99]\n",
            "<class 'list'>\n",
            "0 1 2 3 4 5 6 7 8 9 10 11 12 13 14 15 16 17 18 19 20 21 22 23 24 25 26 27 28 29 30 31 32 33 34 35 36 37 38 39 40 41 42 43 44 45 46 47 48 49 50 51 52 53 54 55 56 57 58 59 60 61 62 63 64 65 66 67 68 69 70 71 72 73 74 75 76 77 78 79 80 81 82 83 84 85 86 87 88 89 90 91 92 93 94 95 96 97 98 99 "
          ]
        }
      ]
    },
    {
      "cell_type": "code",
      "source": [
        "data =  (\"ken\", \"vivin\", \"Lucy\")\n",
        "name1 = data[0]\n",
        "name2 = data[1]\n",
        "name3 = data[2]\n",
        "print(name1, name2, name3)\n",
        "\n",
        "#擴充指定\n",
        "data = (\"Ken\", \"Vivin\", \"Lucy\")\n",
        "name1, name2, name3 = data\n",
        "print(name1, name2, name3)\n",
        "\n",
        "#練習\n",
        "data1 = (\"Mavis\", \"Kevin\", \"John\")\n",
        "name1, name2, name3 = data1\n",
        "print(name1, name2, name3)"
      ],
      "metadata": {
        "colab": {
          "base_uri": "https://localhost:8080/"
        },
        "id": "UbOwfNNmKr4r",
        "outputId": "9ac57802-3e7c-42dd-a9ed-d03e8fc414e3"
      },
      "execution_count": 45,
      "outputs": [
        {
          "output_type": "stream",
          "name": "stdout",
          "text": [
            "ken vivin Lucy\n",
            "Ken Vivin Lucy\n",
            "Mavis Kevin John\n"
          ]
        }
      ]
    },
    {
      "cell_type": "markdown",
      "source": [
        "拷貝與附加 （案例如下：）"
      ],
      "metadata": {
        "id": "nGFsvFv9OLPA"
      }
    },
    {
      "cell_type": "code",
      "source": [
        "#模仿\n",
        "list1 = [1,2,3,4,5]\n",
        "list2 = list1\n",
        "print(\"list1:\", list1)\n",
        "print(\"list2:\", list2)\n",
        "\n",
        "print(\"=============\")\n",
        "#拷貝\n",
        "list1 = [1,2,3,4,5]\n",
        "list2 = list1.copy()  #copy\n",
        "print(\"list1:\", list1)\n",
        "print(\"liste2:\", list2)\n",
        "\n",
        "print(\" 練習 ====== \")\n",
        "list3 = [\"mavis\", \"Kevin\", \"John\"]\n",
        "list4 = list3.copy()\n",
        "print(\"list3: \", list3)\n",
        "print(\"list4:\", list4)\n",
        "\n",
        "print(\" ========= \")\n",
        "list1 = [1,2,3,4,5]\n",
        "list2 = [21,22,23,24,25]\n",
        "print(list1)\n",
        "list1.append(200)  #將一個新的項目加到list 的尾端\n",
        "print(list1)\n",
        "list1.append(list2)\n",
        "print(list1)\n",
        "print(len(list1))"
      ],
      "metadata": {
        "colab": {
          "base_uri": "https://localhost:8080/"
        },
        "id": "FLJqO4NMOP15",
        "outputId": "215868c5-d395-4077-a69d-43d29d3132f5"
      },
      "execution_count": 51,
      "outputs": [
        {
          "output_type": "stream",
          "name": "stdout",
          "text": [
            "list1: [1, 2, 3, 4, 5]\n",
            "list2: [1, 2, 3, 4, 5]\n",
            "=============\n",
            "list1: [1, 2, 3, 4, 5]\n",
            "liste2: [1, 2, 3, 4, 5]\n",
            " 練習 ====== \n",
            "list3:  ['mavis', 'Kevin', 'John']\n",
            "list4: ['mavis', 'Kevin', 'John']\n",
            " ========= \n",
            "[1, 2, 3, 4, 5]\n",
            "[1, 2, 3, 4, 5, 200]\n",
            "[1, 2, 3, 4, 5, 200, [21, 22, 23, 24, 25]]\n",
            "7\n"
          ]
        }
      ]
    },
    {
      "cell_type": "markdown",
      "source": [
        "list 擴展資料\n",
        "*   Extend 擴展資料\n",
        "    1.   如果引號刮起來的字串有 [] 將會拆解成好幾個資料\n",
        "    2.   可以把其他list 加入到這個list內，擴展多個欄位\n",
        "\n",
        "\n",
        "\n"
      ],
      "metadata": {
        "id": "ApwT02J6Zr8_"
      }
    },
    {
      "cell_type": "code",
      "source": [
        "list1 = [1,2,3,4,5]\n",
        "list2 = [21,22,23,24,25]\n",
        "print(list1)\n",
        "list1.extend(list2)\n",
        "print(list1)\n",
        "print(len(list1))\n",
        "\n",
        "print(\"練習 擴充 extend 用法 =================== 練習\")\n",
        "list3 = [2,4,6,8,10]\n",
        "list4 = [100,200,300,400,500]\n",
        "print(id(list3))   #利用id來檢視list的身份，每個人的電腦記憶體的位置\n",
        "list3.extend(list4)\n",
        "print(list3)\n",
        "\n",
        "print(\"練習 擴充用＋＝用法 =========== 練習 \")\n",
        "list3 = [2,4,6,8,10]\n",
        "list4 = [100,200,300,400,500]\n",
        "list3 += list4\n",
        "print(list3)"
      ],
      "metadata": {
        "colab": {
          "base_uri": "https://localhost:8080/"
        },
        "id": "qv04Dqj8aKBk",
        "outputId": "83f116c7-8f47-43b5-ebdb-b6ebd4c8e7a0"
      },
      "execution_count": 60,
      "outputs": [
        {
          "output_type": "stream",
          "name": "stdout",
          "text": [
            "[1, 2, 3, 4, 5]\n",
            "[1, 2, 3, 4, 5, 21, 22, 23, 24, 25]\n",
            "10\n",
            "練習 擴充 extend 用法 =================== 練習\n",
            "133432788992384\n",
            "[2, 4, 6, 8, 10, 100, 200, 300, 400, 500]\n",
            "練習 擴充用＋＝用法 =========== 練習 \n",
            "[2, 4, 6, 8, 10, 100, 200, 300, 400, 500]\n"
          ]
        }
      ]
    },
    {
      "cell_type": "markdown",
      "source": [
        "list 項目插入新資料  （案例如下）\n",
        "* list.insert (索引值，插入的資料）\n",
        "* 若索引值超出範圍，則會改為 append 方式附加"
      ],
      "metadata": {
        "id": "iUuKHbUefXkX"
      }
    },
    {
      "cell_type": "code",
      "source": [
        "list1 = ['a','b','c','d','e']\n",
        "print(len(list1))  #原本list的長度\n",
        "list1.insert(1,\"x\")\n",
        "print(list1)\n",
        "print(len(list1))   #插入之後，list的長度\n",
        "list1.insert(-2, \"y\")   #插入 “倒數”位置就用 -（負號）表示\n",
        "print(list1)\n",
        "list1.insert(-4, \"z\")\n",
        "print(list1)\n",
        "list1.insert(88, \"g\")  #88超過list的數量範圍，會以append的方式，插入在最後一個位置\n",
        "print(list1)\n",
        "\n",
        "print(\"練習 ========== 練習\")\n",
        "list3 = ['1','2','3','4', '5','6','7']\n",
        "print(len(list3))\n",
        "list3.insert(2, \"x, y\")\n",
        "print(list3)\n",
        "print(len(list3))\n",
        "list3.insert(-2,\"m\")\n",
        "print(list3)\n",
        "list3.insert(-4,\"a\")\n",
        "print(list3)\n",
        "list3.insert(99,\"s\")\n",
        "print(list3)"
      ],
      "metadata": {
        "colab": {
          "base_uri": "https://localhost:8080/"
        },
        "id": "LyMMu9Cbfo9m",
        "outputId": "825f895a-8f38-4c9a-aa89-7d259a9b3966"
      },
      "execution_count": 70,
      "outputs": [
        {
          "output_type": "stream",
          "name": "stdout",
          "text": [
            "5\n",
            "['a', 'x', 'b', 'c', 'd', 'e']\n",
            "6\n",
            "['a', 'x', 'b', 'c', 'y', 'd', 'e']\n",
            "['a', 'x', 'b', 'z', 'c', 'y', 'd', 'e']\n",
            "['a', 'x', 'b', 'z', 'c', 'y', 'd', 'e', 'g']\n",
            "練習 ========== 練習\n",
            "7\n",
            "['1', '2', 'x, y', '3', '4', '5', '6', '7']\n",
            "8\n",
            "['1', '2', 'x, y', '3', '4', '5', 'm', '6', '7']\n",
            "['1', '2', 'x, y', '3', '4', 'a', '5', 'm', '6', '7']\n",
            "['1', '2', 'x, y', '3', '4', 'a', '5', 'm', '6', '7', 's']\n"
          ]
        }
      ]
    },
    {
      "cell_type": "markdown",
      "source": [
        "Set 會過濾重複資料 （案例如下）：\n"
      ],
      "metadata": {
        "id": "jOb4Vyp3jBOE"
      }
    },
    {
      "cell_type": "code",
      "source": [
        "list1 = [\"A\",\"E\", \"B\", \"D\", \"C\" ]\n",
        "print(list1)\n",
        "mySet = {\"A\", \"B\", \"C\", \"A\"}\n",
        "print(mySet)   #用set消除重複資料\n",
        "newSet = set(list1)\n",
        "print(newSet)\n",
        "print(list(newSet))\n",
        "\n",
        "print(\"練習 ============= 練習\")\n",
        "list3 = [\"1\",\"6\", \"2\", \"3\", \"7\", \"10\", \"10\"]\n",
        "print(list3)\n",
        "mSet = {\"1\",\"6\", \"6\", \"3\", \"6\", \"10\", \"10\"}\n",
        "print(mSet)       #這兩行不同寫法，一樣的結果\n",
        "print(list(mSet))  #這兩行不同寫法，一樣的結果"
      ],
      "metadata": {
        "colab": {
          "base_uri": "https://localhost:8080/"
        },
        "id": "O6d1AoUQjG15",
        "outputId": "b62876f5-1581-453e-83f6-c9af2143b455"
      },
      "execution_count": 78,
      "outputs": [
        {
          "output_type": "stream",
          "name": "stdout",
          "text": [
            "['A', 'E', 'B', 'D', 'C']\n",
            "{'A', 'B', 'C'}\n",
            "{'A', 'B', 'C', 'D', 'E'}\n",
            "['A', 'B', 'C', 'D', 'E']\n",
            "練習 ============= 練習\n",
            "['1', '6', '2', '3', '7', '10', '10']\n",
            "{'1', '3', '10', '6'}\n",
            "['1', '3', '10', '6']\n"
          ]
        }
      ]
    },
    {
      "cell_type": "markdown",
      "source": [
        "remove 依據內容進行刪除 （案例如下）\n",
        "list.remove(項目內容）"
      ],
      "metadata": {
        "id": "7anhQYECmFSt"
      }
    },
    {
      "cell_type": "code",
      "source": [
        "list1 = ['1','2','3','x','4']\n",
        "print(list1)\n",
        "print(len(list1))\n",
        "list1.remove(\"x\")  #用remove刪除指定的項目內容\n",
        "print(list1)\n",
        "print(len(list1))\n",
        "\n",
        "print(\"練習 ============= 練習\")\n",
        "list3 = ['A','B', 'C', '8']\n",
        "print(list3)\n",
        "print(len(list3))\n",
        "list3.remove(\"8\")\n",
        "print(list3)\n",
        "print(len(list3))"
      ],
      "metadata": {
        "colab": {
          "base_uri": "https://localhost:8080/"
        },
        "id": "BtMCaflZmNZV",
        "outputId": "c122dff4-2312-4480-e153-6e43181dcda1"
      },
      "execution_count": 83,
      "outputs": [
        {
          "output_type": "stream",
          "name": "stdout",
          "text": [
            "['1', '2', '3', 'x', '4']\n",
            "5\n",
            "['1', '2', '3', '4']\n",
            "4\n",
            "練習 ============= 練習\n",
            "['A', 'B', 'C', '8']\n",
            "4\n",
            "['A', 'B', 'C']\n",
            "3\n"
          ]
        }
      ]
    }
  ]
}