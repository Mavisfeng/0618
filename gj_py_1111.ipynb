{
  "nbformat": 4,
  "nbformat_minor": 0,
  "metadata": {
    "colab": {
      "provenance": [],
      "authorship_tag": "ABX9TyNYID7+kL0Q2f7GGEUYSPk9",
      "include_colab_link": true
    },
    "kernelspec": {
      "name": "python3",
      "display_name": "Python 3"
    },
    "language_info": {
      "name": "python"
    }
  },
  "cells": [
    {
      "cell_type": "markdown",
      "metadata": {
        "id": "view-in-github",
        "colab_type": "text"
      },
      "source": [
        "<a href=\"https://colab.research.google.com/github/Mavisfeng/0618/blob/main/gj_py_1111.ipynb\" target=\"_parent\"><img src=\"https://colab.research.google.com/assets/colab-badge.svg\" alt=\"Open In Colab\"/></a>"
      ]
    },
    {
      "cell_type": "code",
      "execution_count": null,
      "metadata": {
        "id": "69gABZbzBvkE"
      },
      "outputs": [],
      "source": [
        "h =  float(input (\"身高\")) / 100\n",
        "w = float (input (\"體重\"))\n",
        "bmi = w / h ** 2\n",
        "print(round (bmi, 3))\n",
        "print(f\"bmi: {bmi:.3f}\")\n",
        "\n",
        "if bmi < 18.5:\n",
        "  print(\"太輕\")\n",
        "elif bmi < 25:\n",
        "  print (\"正常\")\n",
        "elif bmi <30:\n",
        "  print (\"超重\")\n",
        "else:\n",
        "  print(\"胖胖\")"
      ]
    },
    {
      "cell_type": "code",
      "source": [
        "str2 = \"hello,Python\"\n",
        "print(str2[0])\n",
        "print(str2[6])\n",
        "print(str2[-1])\n",
        "print(str2[-2])\n",
        "\n",
        "print(str2[3:7])\n",
        "print(str2[-4:-1])"
      ],
      "metadata": {
        "colab": {
          "base_uri": "https://localhost:8080/"
        },
        "id": "S0YZPZPACttI",
        "outputId": "0f75abae-32e3-40aa-f176-1905b05d24e1"
      },
      "execution_count": 9,
      "outputs": [
        {
          "output_type": "stream",
          "name": "stdout",
          "text": [
            "h\n",
            "P\n",
            "n\n",
            "o\n",
            "lo,P\n",
            "tho\n"
          ]
        }
      ]
    },
    {
      "cell_type": "markdown",
      "source": [
        "print str2 [3:7] 表示取數 第3個～到～地7個\n",
        "print str [-4:-1] 表示取數 倒數～～第一個到第4個"
      ],
      "metadata": {
        "id": "DJWSGjXZGqra"
      }
    },
    {
      "cell_type": "code",
      "source": [
        "str1 = \"Hello, Python\"\n",
        "str2 = str1[:5]\n",
        "str3 = str1[-6:]\n",
        "print(str2)\n",
        "print(str3)\n",
        "str1 = str2 + \":\" + str3\n",
        "print(str1)\n",
        "print(len(str1))"
      ],
      "metadata": {
        "colab": {
          "base_uri": "https://localhost:8080/"
        },
        "id": "dG8nylFCMX0N",
        "outputId": "13205fb4-95ad-432e-cec7-2e2908446e31"
      },
      "execution_count": 13,
      "outputs": [
        {
          "output_type": "stream",
          "name": "stdout",
          "text": [
            "Hello\n",
            "Python\n",
            "Hello:Python\n",
            "12\n"
          ]
        }
      ]
    },
    {
      "cell_type": "markdown",
      "source": [
        "用 print(len(str1)） == 可以查字串的字數"
      ],
      "metadata": {
        "id": "mESXq4bVNWgt"
      }
    },
    {
      "cell_type": "code",
      "source": [
        "str1 = \"Hello, Python\"\n",
        "print(str1[5])\n",
        "str1[5] = \":\"  #字串不支持修改"
      ],
      "metadata": {
        "colab": {
          "base_uri": "https://localhost:8080/",
          "height": 231
        },
        "id": "r1m6GdyENe8F",
        "outputId": "5f51d29f-8a45-4c9c-8159-55536238f869"
      },
      "execution_count": 14,
      "outputs": [
        {
          "output_type": "stream",
          "name": "stdout",
          "text": [
            ",\n"
          ]
        },
        {
          "output_type": "error",
          "ename": "TypeError",
          "evalue": "ignored",
          "traceback": [
            "\u001b[0;31m---------------------------------------------------------------------------\u001b[0m",
            "\u001b[0;31mTypeError\u001b[0m                                 Traceback (most recent call last)",
            "\u001b[0;32m<ipython-input-14-b21f077d734a>\u001b[0m in \u001b[0;36m<cell line: 3>\u001b[0;34m()\u001b[0m\n\u001b[1;32m      1\u001b[0m \u001b[0mstr1\u001b[0m \u001b[0;34m=\u001b[0m \u001b[0;34m\"Hello, Python\"\u001b[0m\u001b[0;34m\u001b[0m\u001b[0;34m\u001b[0m\u001b[0m\n\u001b[1;32m      2\u001b[0m \u001b[0mprint\u001b[0m\u001b[0;34m(\u001b[0m\u001b[0mstr1\u001b[0m\u001b[0;34m[\u001b[0m\u001b[0;36m5\u001b[0m\u001b[0;34m]\u001b[0m\u001b[0;34m)\u001b[0m\u001b[0;34m\u001b[0m\u001b[0;34m\u001b[0m\u001b[0m\n\u001b[0;32m----> 3\u001b[0;31m \u001b[0mstr1\u001b[0m\u001b[0;34m[\u001b[0m\u001b[0;36m5\u001b[0m\u001b[0;34m]\u001b[0m \u001b[0;34m=\u001b[0m \u001b[0;34m\":\"\u001b[0m\u001b[0;34m\u001b[0m\u001b[0;34m\u001b[0m\u001b[0m\n\u001b[0m",
            "\u001b[0;31mTypeError\u001b[0m: 'str' object does not support item assignment"
          ]
        }
      ]
    },
    {
      "cell_type": "code",
      "source": [
        "str1 = \"This is Python.That is Java,This is SQLite\"\n",
        "search1 = \"Python\"\n",
        "print(str1.find(search1))\n",
        "search2 = \"not\"\n",
        "print(str1.find(search2))  #找不到就會出現-1\n",
        "search3 = \"t\"\n",
        "print(str1.find(search3, 11))  #從第11個開始搜尋"
      ],
      "metadata": {
        "colab": {
          "base_uri": "https://localhost:8080/"
        },
        "id": "87a8z-LyR6wT",
        "outputId": "6c81093e-0520-46da-c80e-601e53bfdb5f"
      },
      "execution_count": 19,
      "outputs": [
        {
          "output_type": "stream",
          "name": "stdout",
          "text": [
            "8\n",
            "-1\n",
            "18\n"
          ]
        }
      ]
    },
    {
      "cell_type": "markdown",
      "source": [
        "案例如下：\n",
        "\n",
        "join(): 於字串或字元之間加入指定的文字，如：指定文字.join （要插入的字串）\n"
      ],
      "metadata": {
        "id": "koggMzChXsUD"
      }
    },
    {
      "cell_type": "code",
      "source": [
        "str1 = \"_\"\n",
        "str2 = (\"a\", \"b\", \"c\", \"d\")  #tuple 就像籃子樣，把字串放在同一籃裡面\n",
        "print(str1.join(str2))\n",
        "str3 = [\"abc\", \"zyx\", \"123\"]  #list\n",
        "print(str1.join(str3))\n",
        "str4 = \":\".join(\"Python\")\n",
        "print(str4)"
      ],
      "metadata": {
        "colab": {
          "base_uri": "https://localhost:8080/"
        },
        "id": "Q6XYO7msX5G7",
        "outputId": "93e84222-65dc-4d55-d050-0ab72b15b4de"
      },
      "execution_count": 21,
      "outputs": [
        {
          "output_type": "stream",
          "name": "stdout",
          "text": [
            "a_b_c_d\n",
            "abc_zyx_123\n",
            "P:y:t:h:o:n\n"
          ]
        }
      ]
    },
    {
      "cell_type": "markdown",
      "source": [
        "split 案例如下：\n",
        "\n",
        "split(): 將字串進行切割\n",
        "str.split(分割符號）\n",
        "str.split(分割符號, 分割次數）"
      ],
      "metadata": {
        "id": "MQcIDM_na9U-"
      }
    },
    {
      "cell_type": "code",
      "source": [
        "str4 = \"python-java-cc++-ruby\"\n",
        "values = str4.split(\"-\")\n",
        "print(values)\n",
        "print(values[1])\n",
        "value2 = str4.split(\"-\", 1)  #1指的是位置\n",
        "value3 = str4.split(\"-\", 2)   #2指的是位置\n",
        "print(value2)\n",
        "print(value3)"
      ],
      "metadata": {
        "colab": {
          "base_uri": "https://localhost:8080/"
        },
        "id": "0iCKMQ2DbROo",
        "outputId": "dc4634f6-d920-434e-c99e-75744ae54824"
      },
      "execution_count": 25,
      "outputs": [
        {
          "output_type": "stream",
          "name": "stdout",
          "text": [
            "['python', 'java', 'cc++', 'ruby']\n",
            "java\n",
            "['python', 'java-cc++-ruby']\n",
            "['python', 'java', 'cc++-ruby']\n"
          ]
        }
      ]
    },
    {
      "cell_type": "markdown",
      "source": [
        "20231111作業：文字接龍遊戲\n",
        "請輸入一個字串python\n",
        "**請輸入**\n"
      ],
      "metadata": {
        "id": "70p-BQW7eNHW"
      }
    },
    {
      "cell_type": "markdown",
      "source": [
        "list vs tuple 的差異\n",
        "*   tuple與list 的差異\n",
        "  1.   括號不同：\n",
        "    *   tuple 是用 \"小括號\" 將元素包起來\n",
        "    *   list 是用 \"中括號\" 將元素包起來\n",
        "\n",
        "  2.   元素可否變更 ？\n",
        "    *   tuple 決定了元素的內容不可以變更\n",
        "    *   list 可以隨時修改\n",
        "\n",
        "list 介紹\n",
        "1. list 內資料用“逗號”隔開，放置於“中括號”的範圍內\n",
        "    * list_name = [1,2,3]\n",
        "2. list 可以儲存 “不同類型” 的值或項目，如：數字和字串\n",
        "    ＊ list_name = [1,2, 'Python', 'lists']\n",
        "3. list 內的資料可以進行 \"增加、更新、移除“\n",
        "4. 可透過 .index () 方法取得指定資料的索引"
      ],
      "metadata": {
        "id": "8mUTBY11fEi2"
      }
    },
    {
      "cell_type": "code",
      "source": [
        "list1 = [\"H\", 'i']  #中括號\n",
        "tuple1 = ('H', 'i') #小括號\n",
        "print(list1)\n",
        "print(len(list1))\n",
        "list1.append(\"vivin\")  #將一個新的項目加到list 的尾端\n",
        "print(list1)\n",
        "print(len(list1))  #len 是識別長度\n",
        "list1[1] = 3.1415\n",
        "print(list1)\n",
        "print(\"================\")\n",
        "print(tuple1)\n",
        "#tuple1[0] = \"Lucy\"  #唯讀，不可以改\n",
        "#print(tuple)"
      ],
      "metadata": {
        "colab": {
          "base_uri": "https://localhost:8080/"
        },
        "id": "mVM75PEof9VY",
        "outputId": "69aacc46-ad92-4e0c-a5fb-930be1907d0c"
      },
      "execution_count": 29,
      "outputs": [
        {
          "output_type": "stream",
          "name": "stdout",
          "text": [
            "['H', 'i']\n",
            "2\n",
            "['H', 'i', 'vivin']\n",
            "3\n",
            "['H', 3.1415, 'vivin']\n",
            "================\n",
            "('H', 'i')\n"
          ]
        }
      ]
    },
    {
      "cell_type": "code",
      "source": [
        "list2 = [1,2,3,4]\n",
        "list2.append(5)\n",
        "list2.append(6)\n",
        "result = tuple(list2) #list轉tuple\n",
        "print(result)\n",
        "print(type(result))\n",
        "list2 = list(result) #tuple轉list\n",
        "print(list2)\n",
        "print(type(list2))"
      ],
      "metadata": {
        "colab": {
          "base_uri": "https://localhost:8080/"
        },
        "id": "GT4Huj64kxAe",
        "outputId": "48f2c339-9778-455a-a9f8-94aac56f5905"
      },
      "execution_count": 31,
      "outputs": [
        {
          "output_type": "stream",
          "name": "stdout",
          "text": [
            "(1, 2, 3, 4, 5, 6)\n",
            "<class 'tuple'>\n",
            "[1, 2, 3, 4, 5, 6]\n",
            "<class 'list'>\n"
          ]
        }
      ]
    },
    {
      "cell_type": "code",
      "source": [
        "a = (3,1,2)\n",
        "b = a + (5,)  #tuple “逗號”\n",
        "print(b)\n",
        "\n",
        "list1 = [3,1,2]\n",
        "list2 = list1 + [5] #list 不用加 “逗號”\n",
        "print(list2)\n",
        "\n",
        "print(id(list1)) #用id 識別兩者的差異，type 也是 （常用）\n",
        "print(id(list2))"
      ],
      "metadata": {
        "colab": {
          "base_uri": "https://localhost:8080/"
        },
        "id": "hHnlMRhSnQ4b",
        "outputId": "9a5f3a57-35bc-47a7-ac03-8f4a50f8b7e7"
      },
      "execution_count": 37,
      "outputs": [
        {
          "output_type": "stream",
          "name": "stdout",
          "text": [
            "(3, 1, 2, 5)\n",
            "[3, 1, 2, 5]\n",
            "133432792731328\n",
            "133432793290368\n"
          ]
        }
      ]
    }
  ]
}