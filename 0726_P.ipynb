{
  "nbformat": 4,
  "nbformat_minor": 0,
  "metadata": {
    "colab": {
      "provenance": [],
      "authorship_tag": "ABX9TyMijwwTqcWlpy/EuswVvyiH",
      "include_colab_link": true
    },
    "kernelspec": {
      "name": "python3",
      "display_name": "Python 3"
    },
    "language_info": {
      "name": "python"
    }
  },
  "cells": [
    {
      "cell_type": "markdown",
      "metadata": {
        "id": "view-in-github",
        "colab_type": "text"
      },
      "source": [
        "<a href=\"https://colab.research.google.com/github/Mavisfeng/0618/blob/main/0726_P.ipynb\" target=\"_parent\"><img src=\"https://colab.research.google.com/assets/colab-badge.svg\" alt=\"Open In Colab\"/></a>"
      ]
    },
    {
      "cell_type": "code",
      "execution_count": null,
      "metadata": {
        "colab": {
          "base_uri": "https://localhost:8080/",
          "height": 36
        },
        "id": "9Q3IUIAgWbXU",
        "outputId": "7e3158c6-5564-4308-930c-2f6f721c88c6"
      },
      "outputs": [
        {
          "output_type": "execute_result",
          "data": {
            "text/plain": [
              "'台北市大同區'"
            ],
            "application/vnd.google.colaboratory.intrinsic+json": {
              "type": "string"
            }
          },
          "metadata": {},
          "execution_count": 1
        }
      ],
      "source": [
        "str1 = 'abcdefg'\n",
        "addr1 = '台北市大同區忠孝東路一段100號'\n",
        "\n",
        "str1[2]\n",
        "str1[2:5]\n",
        "addr1[0:3]\n",
        "addr1[:3]\n",
        "addr1[:6]"
      ]
    },
    {
      "cell_type": "code",
      "source": [
        "#for & list 迴圈\n",
        "\n",
        "fruits = ['Apple', 'Banana', 'Cherry']\n",
        "for fruit in fruits:\n",
        "  print(fruit, end=',')\n"
      ],
      "metadata": {
        "colab": {
          "base_uri": "https://localhost:8080/"
        },
        "id": "5qiKbllGa3FL",
        "outputId": "e28efd6f-4072-4ae0-8042-4253379fdaff"
      },
      "execution_count": null,
      "outputs": [
        {
          "output_type": "stream",
          "name": "stdout",
          "text": [
            "Apple,Banana,Cherry,"
          ]
        }
      ]
    },
    {
      "cell_type": "code",
      "source": [
        "#for list 迴圈計算1加到10\n",
        "list1 = [1,2,3,4,5,6,7,8,9,10]\n",
        "total = 0\n",
        "for i in list1:\n",
        "  total = total + i\n",
        "print(total)\n"
      ],
      "metadata": {
        "colab": {
          "base_uri": "https://localhost:8080/"
        },
        "id": "ANn43FaEbRu5",
        "outputId": "e288fcc4-d5d5-40a8-9fd9-4faef8fcb0d9"
      },
      "execution_count": null,
      "outputs": [
        {
          "output_type": "stream",
          "name": "stdout",
          "text": [
            "55\n"
          ]
        }
      ]
    },
    {
      "cell_type": "code",
      "source": [
        "#for list 迴圈計算 1 到 10 的偶數相加\n",
        "list1 = [1,2,3,4,5,6,7,8,9,10]\n",
        "total = 0 \n",
        "for i in list1[1::2]:\n",
        "  total = total + i\n",
        "print(total)\n"
      ],
      "metadata": {
        "colab": {
          "base_uri": "https://localhost:8080/"
        },
        "id": "NCpuC9dacsRi",
        "outputId": "b3607b54-5f39-432d-80c1-935507ddb6f6"
      },
      "execution_count": null,
      "outputs": [
        {
          "output_type": "stream",
          "name": "stdout",
          "text": [
            "30\n"
          ]
        }
      ]
    },
    {
      "cell_type": "code",
      "source": [
        "#for list 迴圈計算 1 到 10 的偶數相加\n",
        "list1 = range(1, 11)\n",
        "total = 0\n",
        "for i in list1:\n",
        "    total = total + i\n",
        "print(total)"
      ],
      "metadata": {
        "colab": {
          "base_uri": "https://localhost:8080/"
        },
        "id": "S8RVIASXgp1q",
        "outputId": "b769cc13-e20b-45d2-ee7e-1d3e943cc17a"
      },
      "execution_count": null,
      "outputs": [
        {
          "output_type": "stream",
          "name": "stdout",
          "text": [
            "55\n"
          ]
        }
      ]
    },
    {
      "cell_type": "code",
      "source": [
        "#for range 迴圈計算 1 到 1000 之間 3 的倍數，而且是基數值\n",
        "total = 0\n",
        "for i in range(1, 1001):\n",
        "  if i % 3 == 0 and i % 2 != 0:\n",
        "    total = total + i\n",
        "print(total)"
      ],
      "metadata": {
        "colab": {
          "base_uri": "https://localhost:8080/"
        },
        "id": "RSjfL2-SdNzR",
        "outputId": "9cbf17ad-3945-44bc-c87e-c26022c601d3"
      },
      "execution_count": null,
      "outputs": [
        {
          "output_type": "stream",
          "name": "stdout",
          "text": [
            "83667\n"
          ]
        }
      ]
    },
    {
      "cell_type": "code",
      "source": [
        "#用 for range 迴圈將所有水果名列出\n",
        "fruits = ['Apple', \"Banan\", 'Cherry']\n",
        "for i in range(len(fruits)):\n",
        "  print(fruits[i])"
      ],
      "metadata": {
        "colab": {
          "base_uri": "https://localhost:8080/"
        },
        "id": "bYXVZDXjh3ox",
        "outputId": "448f59a5-cff2-4df7-e698-8e5ac7669ff4"
      },
      "execution_count": null,
      "outputs": [
        {
          "output_type": "stream",
          "name": "stdout",
          "text": [
            "Apple\n",
            "Banan\n",
            "Cherry\n"
          ]
        }
      ]
    },
    {
      "cell_type": "code",
      "source": [
        "#用 for range 迴圈將所有生肖列出\n",
        "animals = '鼠牛虎兔龍蛇馬羊猴雞狗豬'\n",
        "animals[:5]\n",
        "for animal in animals:\n",
        "  print(animals, end='')\n"
      ],
      "metadata": {
        "colab": {
          "base_uri": "https://localhost:8080/"
        },
        "id": "I1kqZ7EgiQf-",
        "outputId": "49edbe1a-1d16-4f11-b92d-775cf2df2b5c"
      },
      "execution_count": null,
      "outputs": [
        {
          "output_type": "stream",
          "name": "stdout",
          "text": [
            "鼠牛虎兔龍蛇馬羊猴雞狗豬鼠牛虎兔龍蛇馬羊猴雞狗豬鼠牛虎兔龍蛇馬羊猴雞狗豬鼠牛虎兔龍蛇馬羊猴雞狗豬鼠牛虎兔龍蛇馬羊猴雞狗豬鼠牛虎兔龍蛇馬羊猴雞狗豬鼠牛虎兔龍蛇馬羊猴雞狗豬鼠牛虎兔龍蛇馬羊猴雞狗豬鼠牛虎兔龍蛇馬羊猴雞狗豬鼠牛虎兔龍蛇馬羊猴雞狗豬鼠牛虎兔龍蛇馬羊猴雞狗豬鼠牛虎兔龍蛇馬羊猴雞狗豬"
          ]
        }
      ]
    },
    {
      "cell_type": "code",
      "source": [
        "#用 for range 迴圈將所有生肖列出，用在大範圍的資料\n",
        "animals = '鼠牛虎兔龍蛇馬羊猴雞狗豬'\n",
        "for i in range(0, 5): #取出前5筆資料\n",
        "  print(animals[i], end='') "
      ],
      "metadata": {
        "colab": {
          "base_uri": "https://localhost:8080/"
        },
        "id": "fehlnbHOiq8d",
        "outputId": "47be65f3-d6a7-4dc8-82f4-2869be8a90c3"
      },
      "execution_count": null,
      "outputs": [
        {
          "output_type": "stream",
          "name": "stdout",
          "text": [
            "鼠牛虎兔龍"
          ]
        }
      ]
    },
    {
      "cell_type": "code",
      "source": [
        "#用 while 迴圈計算 1 到 10\n",
        "i = 1\n",
        "total = 0 \n",
        "while i <= 10:\n",
        "  total = total + i\n",
        "  i = i + 1 \n",
        "print(total)"
      ],
      "metadata": {
        "colab": {
          "base_uri": "https://localhost:8080/"
        },
        "id": "-6ryp4UDjqnH",
        "outputId": "3a1a8ee0-2f0d-401f-f4a9-779a08004909"
      },
      "execution_count": null,
      "outputs": [
        {
          "output_type": "stream",
          "name": "stdout",
          "text": [
            "55\n"
          ]
        }
      ]
    },
    {
      "cell_type": "code",
      "source": [
        "#用 while 迴圈計算 1 到 偶數加總\n",
        "i = 1 \n",
        "total = 0 \n",
        "while i <=10:\n",
        "  if i % 2 == 0:\n",
        "    total = total + i\n",
        "  i = i + 1\n",
        "print(total)"
      ],
      "metadata": {
        "colab": {
          "base_uri": "https://localhost:8080/"
        },
        "id": "g5wkVi87kHM-",
        "outputId": "3263c4fe-04d2-4608-bd85-52db20ad6671"
      },
      "execution_count": null,
      "outputs": [
        {
          "output_type": "stream",
          "name": "stdout",
          "text": [
            "30\n"
          ]
        }
      ]
    },
    {
      "cell_type": "code",
      "source": [
        "#for while 迴圈計算 1 到 1000 之間 3 的倍數，而且是基數值\n",
        "i = 1\n",
        "total = 0\n",
        "while i<= 1000:\n",
        "  if i % 3 == 0 and i % 2 !=0:\n",
        "    total = total + i \n",
        "  i = i + 1\n",
        "print(total)"
      ],
      "metadata": {
        "colab": {
          "base_uri": "https://localhost:8080/"
        },
        "id": "k6kF9b3skwzq",
        "outputId": "64f97c37-b90c-4563-a4a2-f3b77ff8d551"
      },
      "execution_count": null,
      "outputs": [
        {
          "output_type": "stream",
          "name": "stdout",
          "text": [
            "83667\n"
          ]
        }
      ]
    },
    {
      "cell_type": "code",
      "source": [
        "#break 跳出迴圈\n",
        "for i in range(1,11):\n",
        "  if i == 4:\n",
        "    break\n",
        "  print(i, end=',')"
      ],
      "metadata": {
        "colab": {
          "base_uri": "https://localhost:8080/"
        },
        "id": "kjITT4xIlFHy",
        "outputId": "07796da4-8a19-4bec-8d4e-d16c68f1a6fa"
      },
      "execution_count": null,
      "outputs": [
        {
          "output_type": "stream",
          "name": "stdout",
          "text": [
            "1,2,3,"
          ]
        }
      ]
    },
    {
      "cell_type": "code",
      "source": [
        "#continue 跳過迴圈\n",
        "for i in range(1, 11):\n",
        "  if i == 4:  #跳過4，不印出\n",
        "    continue\n",
        "  print(i, end=',')"
      ],
      "metadata": {
        "colab": {
          "base_uri": "https://localhost:8080/"
        },
        "id": "3ONXBt-8lYtA",
        "outputId": "fc1fbf54-8fbd-4e05-a317-207d80d304e2"
      },
      "execution_count": null,
      "outputs": [
        {
          "output_type": "stream",
          "name": "stdout",
          "text": [
            "1,2,3,5,6,7,8,9,10,"
          ]
        }
      ]
    },
    {
      "cell_type": "code",
      "source": [
        "#作業(一): 九九乘法表 (練習迴圈)\n",
        "#(解法一)\n",
        "for i in range(2,10):\n",
        "  for j in range(2,10):\n",
        "    print(\"{} * {} = {:02}\" .format(i, j, i*j))\n",
        "  print('-' * 10)\n",
        "\n"
      ],
      "metadata": {
        "id": "JNLs0Toolu6Y",
        "colab": {
          "base_uri": "https://localhost:8080/"
        },
        "outputId": "b42c2aaa-5395-40b7-d795-613f42f6256a"
      },
      "execution_count": null,
      "outputs": [
        {
          "output_type": "stream",
          "name": "stdout",
          "text": [
            "2 * 2 = 04\n",
            "2 * 3 = 06\n",
            "2 * 4 = 08\n",
            "2 * 5 = 10\n",
            "2 * 6 = 12\n",
            "2 * 7 = 14\n",
            "2 * 8 = 16\n",
            "2 * 9 = 18\n",
            "----------\n",
            "3 * 2 = 06\n",
            "3 * 3 = 09\n",
            "3 * 4 = 12\n",
            "3 * 5 = 15\n",
            "3 * 6 = 18\n",
            "3 * 7 = 21\n",
            "3 * 8 = 24\n",
            "3 * 9 = 27\n",
            "----------\n",
            "4 * 2 = 08\n",
            "4 * 3 = 12\n",
            "4 * 4 = 16\n",
            "4 * 5 = 20\n",
            "4 * 6 = 24\n",
            "4 * 7 = 28\n",
            "4 * 8 = 32\n",
            "4 * 9 = 36\n",
            "----------\n",
            "5 * 2 = 10\n",
            "5 * 3 = 15\n",
            "5 * 4 = 20\n",
            "5 * 5 = 25\n",
            "5 * 6 = 30\n",
            "5 * 7 = 35\n",
            "5 * 8 = 40\n",
            "5 * 9 = 45\n",
            "----------\n",
            "6 * 2 = 12\n",
            "6 * 3 = 18\n",
            "6 * 4 = 24\n",
            "6 * 5 = 30\n",
            "6 * 6 = 36\n",
            "6 * 7 = 42\n",
            "6 * 8 = 48\n",
            "6 * 9 = 54\n",
            "----------\n",
            "7 * 2 = 14\n",
            "7 * 3 = 21\n",
            "7 * 4 = 28\n",
            "7 * 5 = 35\n",
            "7 * 6 = 42\n",
            "7 * 7 = 49\n",
            "7 * 8 = 56\n",
            "7 * 9 = 63\n",
            "----------\n",
            "8 * 2 = 16\n",
            "8 * 3 = 24\n",
            "8 * 4 = 32\n",
            "8 * 5 = 40\n",
            "8 * 6 = 48\n",
            "8 * 7 = 56\n",
            "8 * 8 = 64\n",
            "8 * 9 = 72\n",
            "----------\n",
            "9 * 2 = 18\n",
            "9 * 3 = 27\n",
            "9 * 4 = 36\n",
            "9 * 5 = 45\n",
            "9 * 6 = 54\n",
            "9 * 7 = 63\n",
            "9 * 8 = 72\n",
            "9 * 9 = 81\n",
            "----------\n"
          ]
        }
      ]
    },
    {
      "cell_type": "code",
      "source": [
        "#作業(一): 九九乘法表 (練習迴圈)\n",
        "#(解法二)\n",
        "for i in range(2,10):\n",
        "  for j in range(2,10):\n",
        "    print(\"{} * {} = {:02}\" .format(i, j, i*j), end=\" \")\n",
        "  print()"
      ],
      "metadata": {
        "colab": {
          "base_uri": "https://localhost:8080/"
        },
        "id": "Jm6YvXuYQs0P",
        "outputId": "b4047914-f1f3-4fa5-88d7-df083b4cc781"
      },
      "execution_count": null,
      "outputs": [
        {
          "output_type": "stream",
          "name": "stdout",
          "text": [
            "2 * 2 = 04 2 * 3 = 06 2 * 4 = 08 2 * 5 = 10 2 * 6 = 12 2 * 7 = 14 2 * 8 = 16 2 * 9 = 18 \n",
            "3 * 2 = 06 3 * 3 = 09 3 * 4 = 12 3 * 5 = 15 3 * 6 = 18 3 * 7 = 21 3 * 8 = 24 3 * 9 = 27 \n",
            "4 * 2 = 08 4 * 3 = 12 4 * 4 = 16 4 * 5 = 20 4 * 6 = 24 4 * 7 = 28 4 * 8 = 32 4 * 9 = 36 \n",
            "5 * 2 = 10 5 * 3 = 15 5 * 4 = 20 5 * 5 = 25 5 * 6 = 30 5 * 7 = 35 5 * 8 = 40 5 * 9 = 45 \n",
            "6 * 2 = 12 6 * 3 = 18 6 * 4 = 24 6 * 5 = 30 6 * 6 = 36 6 * 7 = 42 6 * 8 = 48 6 * 9 = 54 \n",
            "7 * 2 = 14 7 * 3 = 21 7 * 4 = 28 7 * 5 = 35 7 * 6 = 42 7 * 7 = 49 7 * 8 = 56 7 * 9 = 63 \n",
            "8 * 2 = 16 8 * 3 = 24 8 * 4 = 32 8 * 5 = 40 8 * 6 = 48 8 * 7 = 56 8 * 8 = 64 8 * 9 = 72 \n",
            "9 * 2 = 18 9 * 3 = 27 9 * 4 = 36 9 * 5 = 45 9 * 6 = 54 9 * 7 = 63 9 * 8 = 72 9 * 9 = 81 \n"
          ]
        }
      ]
    },
    {
      "cell_type": "code",
      "source": [
        "#作業(二): 繪製三角形 (靠左、靠右、至中)\n",
        "#建立思維\n",
        "list (range(1, 10, 2))\n",
        "for i in range(1, 10, 2):\n",
        "  print(i)\n",
        "\n",
        "\n",
        "#用range的概念，帶入list 概念\n",
        "\n",
        "for i in range(1, 10, 2):\n",
        "  print(i * '*')"
      ],
      "metadata": {
        "colab": {
          "base_uri": "https://localhost:8080/"
        },
        "id": "BJtOBwywQ2n-",
        "outputId": "6dee3cbd-d27d-4173-b790-f26c98a16c69"
      },
      "execution_count": null,
      "outputs": [
        {
          "output_type": "stream",
          "name": "stdout",
          "text": [
            "1\n",
            "3\n",
            "5\n",
            "7\n",
            "9\n",
            "*\n",
            "***\n",
            "*****\n",
            "*******\n",
            "*********\n"
          ]
        }
      ]
    },
    {
      "cell_type": "code",
      "source": [
        "for i in range(1, 10, 2):\n",
        "  print(((9-i) / 2) * ' ', end='')\n",
        "  print(i * '*')"
      ],
      "metadata": {
        "colab": {
          "base_uri": "https://localhost:8080/",
          "height": 201
        },
        "id": "IEC9T39lSXgo",
        "outputId": "3149d942-1bbf-4d4e-c324-200190891479"
      },
      "execution_count": null,
      "outputs": [
        {
          "output_type": "error",
          "ename": "TypeError",
          "evalue": "ignored",
          "traceback": [
            "\u001b[0;31m---------------------------------------------------------------------------\u001b[0m",
            "\u001b[0;31mTypeError\u001b[0m                                 Traceback (most recent call last)",
            "\u001b[0;32m<ipython-input-19-55acb7a8606b>\u001b[0m in \u001b[0;36m<module>\u001b[0;34m()\u001b[0m\n\u001b[1;32m      1\u001b[0m \u001b[0;32mfor\u001b[0m \u001b[0mi\u001b[0m \u001b[0;32min\u001b[0m \u001b[0mrange\u001b[0m\u001b[0;34m(\u001b[0m\u001b[0;36m1\u001b[0m\u001b[0;34m,\u001b[0m \u001b[0;36m10\u001b[0m\u001b[0;34m,\u001b[0m \u001b[0;36m2\u001b[0m\u001b[0;34m)\u001b[0m\u001b[0;34m:\u001b[0m\u001b[0;34m\u001b[0m\u001b[0;34m\u001b[0m\u001b[0m\n\u001b[0;32m----> 2\u001b[0;31m   \u001b[0mprint\u001b[0m\u001b[0;34m(\u001b[0m\u001b[0;34m(\u001b[0m\u001b[0;34m(\u001b[0m\u001b[0;36m9\u001b[0m\u001b[0;34m-\u001b[0m\u001b[0mi\u001b[0m\u001b[0;34m)\u001b[0m \u001b[0;34m/\u001b[0m \u001b[0;36m2\u001b[0m\u001b[0;34m)\u001b[0m \u001b[0;34m*\u001b[0m \u001b[0;34m' '\u001b[0m\u001b[0;34m,\u001b[0m \u001b[0mend\u001b[0m\u001b[0;34m=\u001b[0m\u001b[0;34m''\u001b[0m\u001b[0;34m)\u001b[0m\u001b[0;34m\u001b[0m\u001b[0;34m\u001b[0m\u001b[0m\n\u001b[0m\u001b[1;32m      3\u001b[0m   \u001b[0mprint\u001b[0m\u001b[0;34m(\u001b[0m\u001b[0mi\u001b[0m \u001b[0;34m*\u001b[0m \u001b[0;34m'*'\u001b[0m\u001b[0;34m)\u001b[0m\u001b[0;34m\u001b[0m\u001b[0;34m\u001b[0m\u001b[0m\n",
            "\u001b[0;31mTypeError\u001b[0m: can't multiply sequence by non-int of type 'float'"
          ]
        }
      ]
    },
    {
      "cell_type": "code",
      "source": [
        "for i in range(1, 10, 2):\n",
        "  print(int((9-i) / 2) * ' ', end='')\n",
        "  print(i * '*')"
      ],
      "metadata": {
        "colab": {
          "base_uri": "https://localhost:8080/"
        },
        "id": "G_u9yRuoTSXt",
        "outputId": "7c0b3e58-4ba1-46ba-9fb1-d372d22191d1"
      },
      "execution_count": null,
      "outputs": [
        {
          "output_type": "stream",
          "name": "stdout",
          "text": [
            "    *\n",
            "   ***\n",
            "  *****\n",
            " *******\n",
            "*********\n"
          ]
        }
      ]
    },
    {
      "cell_type": "code",
      "source": [
        "for i in range(1, 10, 2):\n",
        "  print('{:9}'.format(i * '*'))\n",
        "  \n",
        "for i in range(1, 10, 2):\n",
        "  print('{:>9}'.format(i * '*'))\n",
        "\n",
        "  for i in range(1, 10, 2):\n",
        "  print('{:^9}'.format(i * '*'))"
      ],
      "metadata": {
        "colab": {
          "base_uri": "https://localhost:8080/",
          "height": 132
        },
        "id": "4XhiUbeqTnt3",
        "outputId": "4eacbf10-b831-49f5-d8fa-22654a808218"
      },
      "execution_count": null,
      "outputs": [
        {
          "output_type": "error",
          "ename": "IndentationError",
          "evalue": "ignored",
          "traceback": [
            "\u001b[0;36m  File \u001b[0;32m\"<ipython-input-22-e4759b1188d3>\"\u001b[0;36m, line \u001b[0;32m8\u001b[0m\n\u001b[0;31m    print('{:^9}'.format(i * '*'))\u001b[0m\n\u001b[0m        ^\u001b[0m\n\u001b[0;31mIndentationError\u001b[0m\u001b[0;31m:\u001b[0m expected an indented block\n"
          ]
        }
      ]
    }
  ]
}